{
 "cells": [
  {
   "cell_type": "code",
   "execution_count": 1,
   "metadata": {},
   "outputs": [],
   "source": [
    "import cv2\n",
    "from moviepy.editor import *"
   ]
  },
  {
   "cell_type": "code",
   "execution_count": 2,
   "metadata": {},
   "outputs": [
    {
     "name": "stdout",
     "output_type": "stream",
     "text": [
      "fps :  30.0\n",
      "size :  (1080, 1920)\n",
      "video_time :  3270.0\n",
      "frame_msec :  33\n"
     ]
    }
   ],
   "source": [
    "videoname = \"video.mp4\"\n",
    "\n",
    "cap = cv2.VideoCapture(videoname)\n",
    "fps = cap.get(cv2.CAP_PROP_FPS)\n",
    "print('fps : ', fps)\n",
    "size = (int(cap.get(cv2.CAP_PROP_FRAME_WIDTH)), int(cap.get(cv2.CAP_PROP_FRAME_HEIGHT)))\n",
    "print('size : ', size)\n",
    "video_time = cap.get(cv2.CAP_PROP_FRAME_COUNT) * fps\n",
    "print('video_time : ', video_time)\n",
    "frame_msec = int (1000 / fps)\n",
    "print('frame_msec : ', frame_msec)\n",
    "\n",
    "otuputname = videoname[:-4] + \"_boomerang.mp4\"\n"
   ]
  },
  {
   "cell_type": "code",
   "execution_count": 3,
   "metadata": {},
   "outputs": [],
   "source": [
    "fourcc = cv2.VideoWriter_fourcc(*'X264')\n",
    "out = cv2.VideoWriter(otuputname, 0x7634706d, fps, size)\n",
    "\n",
    "cap = cv2.VideoCapture(videoname)\n",
    "time = 0 \n",
    "while cap.isOpened():\n",
    "    while (time < video_time ):\n",
    "        time = time + frame_msec\n",
    "        cap.set(cv2.CAP_PROP_POS_MSEC, time)\n",
    "\n",
    "        ret, frame = cap.read()\n",
    "       \n",
    "        out.write(frame)\n",
    "        \n",
    "        if (cv2.waitKey(1) >= 0):\n",
    "            break\n",
    "\n",
    "    while (video_time > 0):\n",
    "        video_time = video_time - frame_msec\n",
    "        cap.set(cv2.CAP_PROP_POS_MSEC, video_time)\n",
    "\n",
    "        ret, frame = cap.read()\n",
    "        \n",
    "        out.write(frame)\n",
    "        \n",
    "        if (cv2.waitKey(1) >= 0):\n",
    "            break\n",
    "    cap.release()\n",
    "    out.release()"
   ]
  },
  {
   "cell_type": "code",
   "execution_count": 7,
   "metadata": {},
   "outputs": [
    {
     "name": "stderr",
     "output_type": "stream",
     "text": [
      "t:   1%|█                                                                    | 3/201 [00:00<00:06, 29.63it/s, now=None]"
     ]
    },
    {
     "name": "stdout",
     "output_type": "stream",
     "text": [
      "MoviePy - Building file 2020_09_15_163850_boomerang1.gif with imageio.\n"
     ]
    },
    {
     "name": "stderr",
     "output_type": "stream",
     "text": [
      "                                                                                                                       \r"
     ]
    }
   ],
   "source": [
    "gif = (VideoFileClip(otuputname).resize(0.5))\n",
    "gif.write_gif(otuputname[:-4] + \".gif\")"
   ]
  },
  {
   "cell_type": "code",
   "execution_count": null,
   "metadata": {},
   "outputs": [],
   "source": []
  }
 ],
 "metadata": {
  "kernelspec": {
   "display_name": "Python 3",
   "language": "python",
   "name": "python3"
  },
  "language_info": {
   "codemirror_mode": {
    "name": "ipython",
    "version": 3
   },
   "file_extension": ".py",
   "mimetype": "text/x-python",
   "name": "python",
   "nbconvert_exporter": "python",
   "pygments_lexer": "ipython3",
   "version": "3.7.6"
  }
 },
 "nbformat": 4,
 "nbformat_minor": 4
}
